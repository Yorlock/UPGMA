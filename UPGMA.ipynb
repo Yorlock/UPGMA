{
 "cells": [
  {
   "cell_type": "code",
   "execution_count": 1,
   "metadata": {},
   "outputs": [],
   "source": [
    "from heapq import merge\n",
    "import sys\n",
    "import numpy as np\n",
    "import networkx as nx\n",
    "import matplotlib.pyplot as plt\n",
    "\n",
    "G = nx.Graph()\n",
    "global numberOfClusters\n",
    "arrIndex = []\n",
    "\n",
    "def fromInput():\n",
    "    data = []\n",
    "    try:\n",
    "        size = float(input(\"Size of matrix: \"))\n",
    "        for i in range(size):\n",
    "            row = list(map(float, input(fr\"Row {i}: \").strip().split()))\n",
    "            numbers = np.array(row)\n",
    "            if numbers.size != size:\n",
    "                quit()\n",
    "            data.append(numbers)\n",
    "    except:\n",
    "        print(\"Error\")\n",
    "        quit()\n",
    "    return np.array(data)\n",
    "\n",
    "def fromFile(path):\n",
    "    try:\n",
    "        data = []\n",
    "        dataFile = open(path, \"r\")\n",
    "        row = list(map(float, dataFile.readline().strip().split()))\n",
    "        size = len(row)\n",
    "        data.append(np.array(row))\n",
    "        i = 1\n",
    "        while size > i:\n",
    "            numbers = np.array(list(map(float, dataFile.readline().strip().split())))\n",
    "            if numbers.size != size:\n",
    "                quit()\n",
    "            data.append(numbers)\n",
    "            i += 1\n",
    "        dataFile.close()\n",
    "    except:\n",
    "        print(\"Error\")\n",
    "        quit()\n",
    "    return np.array(data)\n",
    "\n",
    "def get_edge_attributes(G, name):\n",
    "    edges = G.edges(data=True)\n",
    "    return dict( (x[:-1], x[-1][name]) for x in edges if name in x[-1] )\n",
    "\n",
    "def findMinValue(data):\n",
    "    minValue = 9223372036854775807\n",
    "    iIndex = 0\n",
    "    jIndex = 0\n",
    "    for i in range(0, len(data)):\n",
    "        for j in range(i + 1, len(data)):\n",
    "            if minValue > data[i][j]:\n",
    "                minValue = data[i][j]\n",
    "                iIndex = i\n",
    "                jIndex = j\n",
    "    return minValue, iIndex, jIndex\n",
    "\n",
    "def updateMatrix(data, mergeIndex1, mergeIndex2, newCluster):\n",
    "    newIndex = 0\n",
    "    if mergeIndex1 > mergeIndex2:\n",
    "        arr = data[:][mergeIndex1]\n",
    "        arr = np.delete(arr, mergeIndex1)\n",
    "        data = np.delete(data, mergeIndex1, axis=0)\n",
    "        data = np.delete(data, mergeIndex1, axis=1)\n",
    "        newIndex = mergeIndex2\n",
    "    else:\n",
    "        arr = data[:][mergeIndex2]\n",
    "        arr = np.delete(arr, mergeIndex2)\n",
    "        data = np.delete(data, mergeIndex2, axis=0)\n",
    "        data = np.delete(data, mergeIndex2, axis=1)\n",
    "        newIndex = mergeIndex1\n",
    "    arrIndex.pop(mergeIndex2)\n",
    "    arrIndex.pop(mergeIndex1)\n",
    "    arrIndex.insert(newIndex, newCluster)\n",
    "    for i in range(len(data[0])):\n",
    "        data[i, newIndex] = ((arr[i]) + (data[i][newIndex]))/2.0\n",
    "        data[newIndex, i] = data[i][newIndex]\n",
    "    data[newIndex, newIndex] = 0.0\n",
    "    return data, newIndex\n",
    "\n",
    "def algorithm(data):\n",
    "    numberOfClusters = 0\n",
    "    for i in range(len(data[0])):\n",
    "        newLeaf = \"L\"+str(i)\n",
    "        G.add_node(newLeaf)\n",
    "        arrIndex.append([newLeaf, 0])\n",
    "    while(len(data[0]) > 1):\n",
    "        minValue, iIndex, jIndex = findMinValue(data)\n",
    "        newCluster = [\"C\"+str(numberOfClusters), minValue/2.0]\n",
    "        G.add_node(newCluster[0])\n",
    "        G.add_edge(arrIndex[iIndex][0], newCluster[0], weight=newCluster[1] - arrIndex[iIndex][1])\n",
    "        G.add_edge(arrIndex[jIndex][0], newCluster[0], weight=newCluster[1] - arrIndex[jIndex][1])\n",
    "        numberOfClusters+=1\n",
    "        data, newIndex = updateMatrix(data, iIndex, jIndex, newCluster)\n",
    "    return data"
   ]
  },
  {
   "cell_type": "code",
   "execution_count": 2,
   "metadata": {},
   "outputs": [
    {
     "name": "stdout",
     "output_type": "stream",
     "text": [
      "Nodes: ['L0', 'L1', 'L2', 'L3', 'L4', 'C0', 'C1', 'C2', 'C3']\n",
      "Edges with weights: {('L0', 'C0'): 2.0, ('L1', 'C1'): 2.0, ('L2', 'C0'): 2.0, ('L3', 'C2'): 3.0, ('L4', 'C1'): 2.0, ('C0', 'C2'): 1.0, ('C1', 'C3'): 2.0, ('C2', 'C3'): 1.0}\n"
     ]
    },
    {
     "data": {
      "image/png": "[encoded data removed]",
      "text/plain": [
       "<Figure size 432x288 with 1 Axes>"
      ]
     },
     "metadata": {},
     "output_type": "display_data"
    }
   ],
   "source": [
    "if __name__=='__main__':\n",
    "    #data = fromInput()\n",
    "    data = fromFile(fr\"input\\test4.txt\")\n",
    "    algorithm(data)\n",
    "    pos = nx.spring_layout(G, k=2.15, iterations=20)\n",
    "    edge_labels=dict([((u,v,),d['weight'])\n",
    "                 for u,v,d in G.edges(data=True)])\n",
    "    nx.draw_networkx_edge_labels(G, pos, edge_labels=edge_labels)\n",
    "    nx.draw(G, pos, node_size=500,edge_cmap=plt.cm.Reds,with_labels=True)\n",
    "    print(\"Nodes:\",G.nodes)\n",
    "    print(\"Edges with weights:\", get_edge_attributes(G, \"weight\"))"
   ]
  },
  {
   "cell_type": "code",
   "execution_count": null,
   "metadata": {},
   "outputs": [],
   "source": []
  }
 ],
 "metadata": {
  "interpreter": {
   "hash": "fd5171fca0b3c892284d07d9fd38e2ba3e9aa31df7b8f85568cdfd8e15d795b6"
  },
  "kernelspec": {
   "display_name": "Python 3.7.4 64-bit",
   "language": "python",
   "name": "python3"
  },
  "language_info": {
   "codemirror_mode": {
    "name": "ipython",
    "version": 3
   },
   "file_extension": ".py",
   "mimetype": "text/x-python",
   "name": "python",
   "nbconvert_exporter": "python",
   "pygments_lexer": "ipython3",
   "version": "3.7.4"
  }
 },
 "nbformat": 4,
 "nbformat_minor": 2
}
